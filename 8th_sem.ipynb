{
 "cells": [
  {
   "cell_type": "markdown",
   "id": "50_GecP-7qHa",
   "metadata": {
    "id": "50_GecP-7qHa"
   },
   "source": [
    "##Capstone Project - TTS in Kannada With Emotions\n",
    "By: Rishika Satheesh, Deboleena Mukherjee, Nikila S and Minal H R\n",
    "PES University"
   ]
  },
  {
   "cell_type": "markdown",
   "id": "406a8cc9",
   "metadata": {
    "id": "406a8cc9"
   },
   "source": [
    "Importing necessary packages:"
   ]
  },
  {
   "cell_type": "code",
   "execution_count": 1,
   "id": "313257fb",
   "metadata": {
    "id": "313257fb"
   },
   "outputs": [],
   "source": [
    "import os\n",
    "import pandas as pd\n",
    "import numpy as np\n",
    "import seaborn as sns\n",
    "import pickle"
   ]
  },
  {
   "cell_type": "markdown",
   "id": "c14b3d27",
   "metadata": {
    "id": "c14b3d27"
   },
   "source": [
    "Reading train data from csv file:"
   ]
  },
  {
   "cell_type": "code",
   "execution_count": 2,
   "id": "52c7b0e5",
   "metadata": {
    "colab": {
     "base_uri": "https://localhost:8080/",
     "height": 206
    },
    "id": "52c7b0e5",
    "outputId": "00d56db6-f003-49d8-9bcd-ecf065cdac1c"
   },
   "outputs": [
    {
     "data": {
      "text/html": [
       "<div>\n",
       "<style scoped>\n",
       "    .dataframe tbody tr th:only-of-type {\n",
       "        vertical-align: middle;\n",
       "    }\n",
       "\n",
       "    .dataframe tbody tr th {\n",
       "        vertical-align: top;\n",
       "    }\n",
       "\n",
       "    .dataframe thead th {\n",
       "        text-align: right;\n",
       "    }\n",
       "</style>\n",
       "<table border=\"1\" class=\"dataframe\">\n",
       "  <thead>\n",
       "    <tr style=\"text-align: right;\">\n",
       "      <th></th>\n",
       "      <th>Text</th>\n",
       "      <th>Class</th>\n",
       "    </tr>\n",
       "  </thead>\n",
       "  <tbody>\n",
       "    <tr>\n",
       "      <th>0</th>\n",
       "      <td>ಹೋಟೆಲ್ ಕಳಪೆಯಾಗಿ ನಿರ್ವಹಿಸಲ್ಪಟ್ಟಿದೆ</td>\n",
       "      <td>0</td>\n",
       "    </tr>\n",
       "    <tr>\n",
       "      <th>1</th>\n",
       "      <td>ಅವರು ಕೆಟ್ಟ ಸೇವೆಯನ್ನು ನೀಡಿದರು</td>\n",
       "      <td>0</td>\n",
       "    </tr>\n",
       "    <tr>\n",
       "      <th>2</th>\n",
       "      <td>ಕ್ಯಾಬ್‌ನ ಒಳಭಾಗವನ್ನು ಸರಿಯಾಗಿ ನಿರ್ವಹಿಸಲಾಗಿಲ್ಲ</td>\n",
       "      <td>0</td>\n",
       "    </tr>\n",
       "    <tr>\n",
       "      <th>3</th>\n",
       "      <td>ಕ್ಯಾಬ್ ಒಳಭಾಗ ಕೊಳಕು</td>\n",
       "      <td>0</td>\n",
       "    </tr>\n",
       "    <tr>\n",
       "      <th>4</th>\n",
       "      <td>ನಾವು ಅಗ್ಗದ ವಿಮಾನವನ್ನು ಬುಕ್ ಮಾಡಬಹುದಿತ್ತು</td>\n",
       "      <td>0</td>\n",
       "    </tr>\n",
       "  </tbody>\n",
       "</table>\n",
       "</div>"
      ],
      "text/plain": [
       "                                          Text  Class\n",
       "0            ಹೋಟೆಲ್ ಕಳಪೆಯಾಗಿ ನಿರ್ವಹಿಸಲ್ಪಟ್ಟಿದೆ      0\n",
       "1                 ಅವರು ಕೆಟ್ಟ ಸೇವೆಯನ್ನು ನೀಡಿದರು      0\n",
       "2  ಕ್ಯಾಬ್‌ನ ಒಳಭಾಗವನ್ನು ಸರಿಯಾಗಿ ನಿರ್ವಹಿಸಲಾಗಿಲ್ಲ      0\n",
       "3                           ಕ್ಯಾಬ್ ಒಳಭಾಗ ಕೊಳಕು      0\n",
       "4      ನಾವು ಅಗ್ಗದ ವಿಮಾನವನ್ನು ಬುಕ್ ಮಾಡಬಹುದಿತ್ತು      0"
      ]
     },
     "execution_count": 2,
     "metadata": {},
     "output_type": "execute_result"
    }
   ],
   "source": [
    "df = pd.read_csv(r\"emo_ds_7.csv\")\n",
    "df.head()\n"
   ]
  },
  {
   "cell_type": "markdown",
   "id": "3b0ac9d9",
   "metadata": {
    "id": "3b0ac9d9"
   },
   "source": [
    "Count of sentences for each emotion label in train dataset:"
   ]
  },
  {
   "cell_type": "markdown",
   "id": "ffea9981",
   "metadata": {
    "id": "ffea9981"
   },
   "source": [
    "0 - Angry"
   ]
  },
  {
   "cell_type": "markdown",
   "id": "6fef408f",
   "metadata": {
    "id": "6fef408f"
   },
   "source": [
    "1 - Happy"
   ]
  },
  {
   "cell_type": "markdown",
   "id": "9fdad4e9",
   "metadata": {
    "id": "9fdad4e9"
   },
   "source": [
    "2 - Neutral"
   ]
  },
  {
   "cell_type": "markdown",
   "id": "459f4ddd",
   "metadata": {
    "id": "459f4ddd"
   },
   "source": [
    "3 - Sad"
   ]
  },
  {
   "cell_type": "code",
   "execution_count": 3,
   "id": "0106820f",
   "metadata": {
    "colab": {
     "base_uri": "https://localhost:8080/"
    },
    "id": "0106820f",
    "outputId": "2ff72c06-85b5-49f7-a2b1-7ee82832b507"
   },
   "outputs": [
    {
     "data": {
      "text/plain": [
       "Class\n",
       "0    402\n",
       "1    385\n",
       "2    392\n",
       "3    392\n",
       "Name: Class, dtype: int64"
      ]
     },
     "execution_count": 3,
     "metadata": {},
     "output_type": "execute_result"
    }
   ],
   "source": [
    "df.groupby('Class').Class.count()\n"
   ]
  },
  {
   "cell_type": "code",
   "execution_count": 4,
   "id": "_6W696HZ6UO8",
   "metadata": {
    "colab": {
     "base_uri": "https://localhost:8080/",
     "height": 351
    },
    "id": "_6W696HZ6UO8",
    "outputId": "fbef2fa4-8c59-4bac-b48d-edea9dcd1888"
   },
   "outputs": [
    {
     "data": {
      "text/plain": [
       "<Axes: ylabel='count'>"
      ]
     },
     "execution_count": 4,
     "metadata": {},
     "output_type": "execute_result"
    },
    {
     "data": {
      "image/png": "[encoded data removed]",
      "text/plain": [
       "<Figure size 640x480 with 1 Axes>"
      ]
     },
     "metadata": {},
     "output_type": "display_data"
    }
   ],
   "source": [
    "\n",
    "sns.countplot(df['Class'])"
   ]
  },
  {
   "cell_type": "code",
   "execution_count": 5,
   "id": "7a98954f",
   "metadata": {
    "id": "7a98954f"
   },
   "outputs": [],
   "source": [
    "X = df['Text']\n",
    "y = df['Class']"
   ]
  },
  {
   "cell_type": "markdown",
   "id": "135dd1e5",
   "metadata": {
    "id": "135dd1e5"
   },
   "source": [
    "Reading test data from csv file:"
   ]
  },
  {
   "cell_type": "code",
   "execution_count": 6,
   "id": "bc692437",
   "metadata": {
    "colab": {
     "base_uri": "https://localhost:8080/",
     "height": 206
    },
    "id": "bc692437",
    "outputId": "9c6ed4b7-33c8-44fe-e3b7-3b8a3f20ec04"
   },
   "outputs": [
    {
     "data": {
      "text/html": [
       "<div>\n",
       "<style scoped>\n",
       "    .dataframe tbody tr th:only-of-type {\n",
       "        vertical-align: middle;\n",
       "    }\n",
       "\n",
       "    .dataframe tbody tr th {\n",
       "        vertical-align: top;\n",
       "    }\n",
       "\n",
       "    .dataframe thead th {\n",
       "        text-align: right;\n",
       "    }\n",
       "</style>\n",
       "<table border=\"1\" class=\"dataframe\">\n",
       "  <thead>\n",
       "    <tr style=\"text-align: right;\">\n",
       "      <th></th>\n",
       "      <th>Text</th>\n",
       "      <th>Class</th>\n",
       "    </tr>\n",
       "  </thead>\n",
       "  <tbody>\n",
       "    <tr>\n",
       "      <th>0</th>\n",
       "      <td>ಹೋಟೆಲ್ ಕಳಪೆಯಾಗಿ ನಿರ್ವಹಿಸಲ್ಪಟ್ಟಿದೆ</td>\n",
       "      <td>0</td>\n",
       "    </tr>\n",
       "    <tr>\n",
       "      <th>1</th>\n",
       "      <td>ಇದು ಸರಿಯಾಗಿ ಕೆಲಸ ಮಾಡುತ್ತಿಲ್ಲ</td>\n",
       "      <td>0</td>\n",
       "    </tr>\n",
       "    <tr>\n",
       "      <th>2</th>\n",
       "      <td>ನನ್ನ ಅದೃಷ್ಟ ಚೆನ್ನಾಗಿಲ್ಲ</td>\n",
       "      <td>0</td>\n",
       "    </tr>\n",
       "    <tr>\n",
       "      <th>3</th>\n",
       "      <td>ನಮಗೆ ತುಂಬಾ ಕೆಟ್ಟ ಅನುಭವವಾಗಿದೆ</td>\n",
       "      <td>0</td>\n",
       "    </tr>\n",
       "    <tr>\n",
       "      <th>4</th>\n",
       "      <td>ನೀನು ನಿಷ್ಪ್ರಯೋಜಕ</td>\n",
       "      <td>0</td>\n",
       "    </tr>\n",
       "  </tbody>\n",
       "</table>\n",
       "</div>"
      ],
      "text/plain": [
       "                                Text  Class\n",
       "0  ಹೋಟೆಲ್ ಕಳಪೆಯಾಗಿ ನಿರ್ವಹಿಸಲ್ಪಟ್ಟಿದೆ      0\n",
       "1       ಇದು ಸರಿಯಾಗಿ ಕೆಲಸ ಮಾಡುತ್ತಿಲ್ಲ      0\n",
       "2            ನನ್ನ ಅದೃಷ್ಟ ಚೆನ್ನಾಗಿಲ್ಲ      0\n",
       "3       ನಮಗೆ ತುಂಬಾ ಕೆಟ್ಟ ಅನುಭವವಾಗಿದೆ      0\n",
       "4                   ನೀನು ನಿಷ್ಪ್ರಯೋಜಕ      0"
      ]
     },
     "execution_count": 6,
     "metadata": {},
     "output_type": "execute_result"
    }
   ],
   "source": [
    "ds = pd.read_csv(r\"emo_ds_7_test.csv\")\n",
    "ds.head()\n"
   ]
  },
  {
   "cell_type": "markdown",
   "id": "69b7c3c1",
   "metadata": {
    "id": "69b7c3c1"
   },
   "source": [
    "Count of sentences for each emotion label in test dataset:\n",
    "    "
   ]
  },
  {
   "cell_type": "markdown",
   "id": "f8ba27e7",
   "metadata": {
    "id": "f8ba27e7"
   },
   "source": [
    "0 - Angry"
   ]
  },
  {
   "cell_type": "markdown",
   "id": "d363d56d",
   "metadata": {
    "id": "d363d56d"
   },
   "source": [
    "1 - Happy"
   ]
  },
  {
   "cell_type": "markdown",
   "id": "d06ed78c",
   "metadata": {
    "id": "d06ed78c"
   },
   "source": [
    "2 - Neutral"
   ]
  },
  {
   "cell_type": "markdown",
   "id": "6790ea25",
   "metadata": {
    "id": "6790ea25"
   },
   "source": [
    "3 - Sad"
   ]
  },
  {
   "cell_type": "code",
   "execution_count": 7,
   "id": "73afaee6",
   "metadata": {
    "colab": {
     "base_uri": "https://localhost:8080/"
    },
    "id": "73afaee6",
    "outputId": "a6a17a9e-c830-422e-e3a2-535b84b395d0"
   },
   "outputs": [
    {
     "data": {
      "text/plain": [
       "Class\n",
       "0    74\n",
       "1    78\n",
       "2    83\n",
       "3    75\n",
       "Name: Class, dtype: int64"
      ]
     },
     "execution_count": 7,
     "metadata": {},
     "output_type": "execute_result"
    }
   ],
   "source": [
    "ds.groupby('Class').Class.count()\n",
    "#0-angry \n",
    "#1-happy \n",
    "#2-neutral\n",
    "#3-sad"
   ]
  },
  {
   "cell_type": "code",
   "execution_count": 8,
   "id": "213b6e0d",
   "metadata": {
    "id": "213b6e0d"
   },
   "outputs": [],
   "source": [
    "X_train=X\n",
    "y_train=y\n",
    "\n",
    "X_test=ds['Text']\n",
    "y_test=ds['Class']"
   ]
  },
  {
   "cell_type": "markdown",
   "id": "883ae95f",
   "metadata": {
    "id": "883ae95f"
   },
   "source": [
    "Number of sentences in train dataset:"
   ]
  },
  {
   "cell_type": "code",
   "execution_count": 9,
   "id": "32f45f01",
   "metadata": {
    "colab": {
     "base_uri": "https://localhost:8080/"
    },
    "id": "32f45f01",
    "outputId": "b2469405-df2c-4168-c9cd-ce5b31d371fe"
   },
   "outputs": [
    {
     "data": {
      "text/plain": [
       "1571"
      ]
     },
     "execution_count": 9,
     "metadata": {},
     "output_type": "execute_result"
    }
   ],
   "source": [
    "len(X_train)"
   ]
  },
  {
   "cell_type": "code",
   "execution_count": 10,
   "id": "fc3c4743",
   "metadata": {
    "colab": {
     "base_uri": "https://localhost:8080/"
    },
    "id": "fc3c4743",
    "outputId": "2c5535df-5647-445a-f72a-da490ab54b88"
   },
   "outputs": [
    {
     "data": {
      "text/plain": [
       "0                       ಹೋಟೆಲ್ ಕಳಪೆಯಾಗಿ ನಿರ್ವಹಿಸಲ್ಪಟ್ಟಿದೆ\n",
       "1                            ಅವರು ಕೆಟ್ಟ ಸೇವೆಯನ್ನು ನೀಡಿದರು\n",
       "2             ಕ್ಯಾಬ್‌ನ ಒಳಭಾಗವನ್ನು ಸರಿಯಾಗಿ ನಿರ್ವಹಿಸಲಾಗಿಲ್ಲ\n",
       "3                                      ಕ್ಯಾಬ್ ಒಳಭಾಗ ಕೊಳಕು\n",
       "4                 ನಾವು ಅಗ್ಗದ ವಿಮಾನವನ್ನು ಬುಕ್ ಮಾಡಬಹುದಿತ್ತು\n",
       "                              ...                        \n",
       "1566         ಅವನ ತಂದೆಯ ಕೋಪದ ದನಿಯು ಕಪಾಳಮೋಕ್ಷದಿಂದ ಕೂಡಿತ್ತು.\n",
       "1567    ಆಗ ಒಬ್ಬ ತೆಳ್ಳಗಿನ, ಮಸುಕಾದ ಸೈನಿಕನು, ಅವನ ಕುತ್ತಿಗೆ...\n",
       "1568              ಅವಳ ಕಣ್ಣುಗಳು ಕೋಪಗೊಂಡ ಮೋಡಗಳ ಕಡೆಗೆ ಹೋದವು.\n",
       "1569    ಅವನಿಗೆ ಒಂದು ನಿಮಿಷ ಕೋಪ ಮತ್ತು ಮರುಕ್ಷಣ ತಮಾಷೆ ಮಾಡಿ...\n",
       "1570    ಅವನ ದೇಹವು ಕೋಪಗೊಂಡ ಶಕ್ತಿಯಿಂದ ಅಲೆಯುತ್ತಿತ್ತು, ಅದು...\n",
       "Name: Text, Length: 1571, dtype: object"
      ]
     },
     "execution_count": 10,
     "metadata": {},
     "output_type": "execute_result"
    }
   ],
   "source": [
    "X_train"
   ]
  },
  {
   "cell_type": "markdown",
   "id": "be2123b6",
   "metadata": {
    "id": "be2123b6"
   },
   "source": [
    "Number of sentences in test dataset:"
   ]
  },
  {
   "cell_type": "code",
   "execution_count": 11,
   "id": "30595424",
   "metadata": {
    "colab": {
     "base_uri": "https://localhost:8080/"
    },
    "id": "30595424",
    "outputId": "5506ded5-a422-428d-9231-e0d58b125c2c"
   },
   "outputs": [
    {
     "data": {
      "text/plain": [
       "310"
      ]
     },
     "execution_count": 11,
     "metadata": {},
     "output_type": "execute_result"
    }
   ],
   "source": [
    "len(X_test)"
   ]
  },
  {
   "cell_type": "code",
   "execution_count": 12,
   "id": "06426a43",
   "metadata": {
    "colab": {
     "base_uri": "https://localhost:8080/"
    },
    "id": "06426a43",
    "outputId": "0b027f5e-964a-41b1-fd07-a204f3d5de45"
   },
   "outputs": [
    {
     "data": {
      "text/plain": [
       "0                      ಹೋಟೆಲ್ ಕಳಪೆಯಾಗಿ ನಿರ್ವಹಿಸಲ್ಪಟ್ಟಿದೆ\n",
       "1                           ಇದು ಸರಿಯಾಗಿ ಕೆಲಸ ಮಾಡುತ್ತಿಲ್ಲ\n",
       "2                                ನನ್ನ ಅದೃಷ್ಟ ಚೆನ್ನಾಗಿಲ್ಲ\n",
       "3                           ನಮಗೆ ತುಂಬಾ ಕೆಟ್ಟ ಅನುಭವವಾಗಿದೆ\n",
       "4                                       ನೀನು ನಿಷ್ಪ್ರಯೋಜಕ\n",
       "                             ...                        \n",
       "305    ನಾನು ತಡರಾತ್ರಿಯಲ್ಲಿ ಕೆಲಸ ಮಾಡುವುದನ್ನು ದ್ವೇಷಿಸುತ್...\n",
       "306    ಈ ಹಾಡು ಎಷ್ಟು ದುಃಖಕರವಾಗಿದೆಯೆಂದರೆ ನನ್ನ ಏಳು ವರ್ಷದ...\n",
       "307     ನಾನು ಈಗಾಗಲೇ ಶಾಲೆಯ ಕೆಲಸದಿಂದ ತುಂಬಾ ಆಯಾಸಗೊಂಡಿದ್ದೇನೆ\n",
       "308    ಕಾಲೇಜು ದಿನಗಳು ಹೆಚ್ಚು ಖುಷಿಯಾಗಿರಬೇಕೆಂದು ನಾನು ಬಯಸ...\n",
       "309    ನನಗೆ ತುಂಬ ಬೇಜಾರಾಗಿದೆ. ನನ್ನ ಒಡಹುಟ್ಟಿದವರು ಪಾರ್ಟ...\n",
       "Name: Text, Length: 310, dtype: object"
      ]
     },
     "execution_count": 12,
     "metadata": {},
     "output_type": "execute_result"
    }
   ],
   "source": [
    "X_test"
   ]
  },
  {
   "cell_type": "code",
   "execution_count": 13,
   "id": "bd4ddc50",
   "metadata": {
    "colab": {
     "base_uri": "https://localhost:8080/"
    },
    "id": "bd4ddc50",
    "outputId": "a7b35ce0-3aee-4c8c-b1ac-d7998cddf585"
   },
   "outputs": [
    {
     "data": {
      "text/plain": [
       "pandas.core.series.Series"
      ]
     },
     "execution_count": 13,
     "metadata": {},
     "output_type": "execute_result"
    }
   ],
   "source": [
    "type(y_train)"
   ]
  },
  {
   "cell_type": "markdown",
   "id": "77892d4c",
   "metadata": {
    "id": "77892d4c"
   },
   "source": [
    "List of stopwords:"
   ]
  },
  {
   "cell_type": "code",
   "execution_count": 14,
   "id": "73e952b8",
   "metadata": {
    "id": "73e952b8"
   },
   "outputs": [],
   "source": [
    "stop_words = ['',' ','.','ಈ','ಆದರೆ','ಎಂದು','ಅವರ','ಮತ್ತು','ಎಂಬ','ಅವರು','ಒಂದು','ಬಗ್ಗೆ','ಆ','ಇದೆ','ಇದು','ನಾನು','ಮೂಲಕ','ನನ್ನ','ಅದು','ಮೇಲೆ','ಈಗ','ಹಾಗೂ','ಇಲ್ಲ','ಮೊದಲ','ನನಗೆ','ಹೆಚ್ಚು','ಅವರಿಗೆ','ತಮ್ಮ','ಮಾಡಿ','ನಮ್ಮ','ಮಾತ್ರ','ದೊಡ್ಡ','ಅದೇ','ಕೂಡ','ಸಿನಿಮಾ','ಯಾವುದೇ','ಯಾವ','ಆಗ','ತುಂಬಾ','ನಾವು','ದಿನ','ಬೇರೆ','ಅವರನ್ನು','ಎಲ್ಲಾ','ನೀವು','ಸಾಕಷ್ಟು','ಕನ್ನಡ','ಹೊಸ','ಮುಂದೆ','ಹೇಗೆ','ನಂತರ','ಇಲ್ಲಿ','ಕೆಲಸ','ಅಲ್ಲ','ಬಳಿಕ','ಒಳ್ಳೆಯ','ಹಾಗಾಗಿ','ಒಂದೇ','ಜನ','ಅದನ್ನು','ಬಂದ','ಕಾರಣ','ಅವಕಾಶ','ವರ್ಷ','ನಿಮ್ಮ','ಇತ್ತು','ಚಿತ್ರ','ಹೇಳಿ','ಮಾಡಿದ','ಅದಕ್ಕೆ','ಆಗಿ','ಎಂಬುದು','ಅಂತ','2','ಕೆಲವು','ಮೊದಲು','ಬಂದು','ಇದೇ','ನೋಡಿ','ಕೇವಲ','ಎರಡು','ಇನ್ನು','ಅಷ್ಟೇ','ಎಷ್ಟು','ಚಿತ್ರದ','ಮಾಡಬೇಕು','ಹೀಗೆ','ಕುರಿತು','5','ಉತ್ತರ','ಎಂದರೆ','ಇನ್ನೂ','ಮತ್ತೆ','ಏನು','ಪಾತ್ರ','ಮುಂದಿನ','ಸಂದರ್ಭದಲ್ಲಿ','ಮಾಡುವ','ವೇಳೆ','ನನ್ನನ್ನು','ಮೂರು','ಅಥವಾ','ಜೊತೆಗೆ','ಹೆಸರು','ಚಿತ್ರದಲ್ಲಿ']\n",
    "#stop_words"
   ]
  },
  {
   "cell_type": "markdown",
   "id": "ab50f93d",
   "metadata": {
    "id": "ab50f93d"
   },
   "source": [
    "Length of stopword list:"
   ]
  },
  {
   "cell_type": "code",
   "execution_count": 15,
   "id": "7d1badbe",
   "metadata": {
    "colab": {
     "base_uri": "https://localhost:8080/"
    },
    "id": "7d1badbe",
    "outputId": "d949b816-4652-4152-eb45-5dd805f4bdae"
   },
   "outputs": [
    {
     "data": {
      "text/plain": [
       "105"
      ]
     },
     "execution_count": 15,
     "metadata": {},
     "output_type": "execute_result"
    }
   ],
   "source": [
    "len(stop_words)"
   ]
  },
  {
   "cell_type": "markdown",
   "id": "8b0825da",
   "metadata": {
    "id": "8b0825da"
   },
   "source": [
    "Using CountVectorizer to produce sparse representation of data:"
   ]
  },
  {
   "cell_type": "code",
   "execution_count": 16,
   "id": "5f0fc422",
   "metadata": {
    "colab": {
     "base_uri": "https://localhost:8080/"
    },
    "id": "5f0fc422",
    "outputId": "a00c9bc9-624a-495e-f6ea-b16e242e0904"
   },
   "outputs": [
    {
     "name": "stderr",
     "output_type": "stream",
     "text": [
      "C:\\Users\\user\\miniconda3\\envs\\sentiment_analysis\\lib\\site-packages\\sklearn\\feature_extraction\\text.py:528: UserWarning: The parameter 'token_pattern' will not be used since 'tokenizer' is not None'\n",
      "  warnings.warn(\n"
     ]
    }
   ],
   "source": [
    "def my_tokenizer(s):\n",
    "    return s.split(' ')\n",
    "\n",
    "from sklearn.feature_extraction.text import CountVectorizer\n",
    "vect = CountVectorizer(min_df=2, ngram_range=(1, 3), encoding='ISCII',tokenizer=my_tokenizer,stop_words=stop_words).fit(X_train)"
   ]
  },
  {
   "cell_type": "code",
   "execution_count": 17,
   "id": "c83672e2",
   "metadata": {
    "colab": {
     "base_uri": "https://localhost:8080/"
    },
    "id": "c83672e2",
    "outputId": "fbdef404-711d-4825-8f5c-ac0eb96a780d"
   },
   "outputs": [
    {
     "name": "stdout",
     "output_type": "stream",
     "text": [
      "1335\n"
     ]
    }
   ],
   "source": [
    "print(len(vect.get_feature_names_out())) "
   ]
  },
  {
   "cell_type": "code",
   "execution_count": 18,
   "id": "9fd8a09d",
   "metadata": {
    "colab": {
     "base_uri": "https://localhost:8080/"
    },
    "id": "9fd8a09d",
    "outputId": "4349b391-7a1e-4cdd-c950-71a66b0ba7dc"
   },
   "outputs": [
    {
     "data": {
      "text/plain": [
       "array(['!!', '!!!', '-', ..., 'ಹ್ಯಾಂಗ್', 'ಹ್ಯಾಂಗ್ ಔಟ್', 'ಹ್ಹಾಹಾ'],\n",
       "      dtype=object)"
      ]
     },
     "execution_count": 18,
     "metadata": {},
     "output_type": "execute_result"
    }
   ],
   "source": [
    "vect.get_feature_names_out()  "
   ]
  },
  {
   "cell_type": "markdown",
   "id": "a84a43c7",
   "metadata": {
    "id": "a84a43c7"
   },
   "source": [
    "Getting a bag of words representation for all the documents:"
   ]
  },
  {
   "cell_type": "code",
   "execution_count": 19,
   "id": "bb19036c",
   "metadata": {
    "colab": {
     "base_uri": "https://localhost:8080/"
    },
    "id": "bb19036c",
    "outputId": "a4bd315c-feaf-4e47-b68b-c9f97e2f7a11"
   },
   "outputs": [
    {
     "data": {
      "text/plain": [
       "<1571x1335 sparse matrix of type '<class 'numpy.int64'>'\n",
       "\twith 4830 stored elements in Compressed Sparse Row format>"
      ]
     },
     "execution_count": 19,
     "metadata": {},
     "output_type": "execute_result"
    }
   ],
   "source": [
    "X_train_vectorized = vect.transform(X_train)    \n",
    "X_train_vectorized"
   ]
  },
  {
   "cell_type": "code",
   "execution_count": 20,
   "id": "388da712",
   "metadata": {
    "colab": {
     "base_uri": "https://localhost:8080/"
    },
    "id": "388da712",
    "outputId": "92b302e8-a892-48f6-b992-4f35963c6f5e"
   },
   "outputs": [
    {
     "data": {
      "text/plain": [
       "(1571, 1335)"
      ]
     },
     "execution_count": 20,
     "metadata": {},
     "output_type": "execute_result"
    }
   ],
   "source": [
    "X_train_vectorized.shape"
   ]
  },
  {
   "cell_type": "markdown",
   "id": "50c03780",
   "metadata": {
    "id": "50c03780"
   },
   "source": [
    "________________________________________________"
   ]
  },
  {
   "cell_type": "markdown",
   "id": "a00461db",
   "metadata": {
    "id": "a00461db"
   },
   "source": [
    "## Multinomial Logistic Regression"
   ]
  },
  {
   "cell_type": "code",
   "execution_count": 21,
   "id": "f5c31e5a",
   "metadata": {
    "colab": {
     "base_uri": "https://localhost:8080/"
    },
    "id": "f5c31e5a",
    "outputId": "7fa2b71d-81cb-4217-90ce-1e6c70de7421"
   },
   "outputs": [
    {
     "data": {
      "text/html": [
       "<style>#sk-container-id-1 {color: black;background-color: white;}#sk-container-id-1 pre{padding: 0;}#sk-container-id-1 div.sk-toggleable {background-color: white;}#sk-container-id-1 label.sk-toggleable__label {cursor: pointer;display: block;width: 100%;margin-bottom: 0;padding: 0.3em;box-sizing: border-box;text-align: center;}#sk-container-id-1 label.sk-toggleable__label-arrow:before {content: \"▸\";float: left;margin-right: 0.25em;color: #696969;}#sk-container-id-1 label.sk-toggleable__label-arrow:hover:before {color: black;}#sk-container-id-1 div.sk-estimator:hover label.sk-toggleable__label-arrow:before {color: black;}#sk-container-id-1 div.sk-toggleable__content {max-height: 0;max-width: 0;overflow: hidden;text-align: left;background-color: #f0f8ff;}#sk-container-id-1 div.sk-toggleable__content pre {margin: 0.2em;color: black;border-radius: 0.25em;background-color: #f0f8ff;}#sk-container-id-1 input.sk-toggleable__control:checked~div.sk-toggleable__content {max-height: 200px;max-width: 100%;overflow: auto;}#sk-container-id-1 input.sk-toggleable__control:checked~label.sk-toggleable__label-arrow:before {content: \"▾\";}#sk-container-id-1 div.sk-estimator input.sk-toggleable__control:checked~label.sk-toggleable__label {background-color: #d4ebff;}#sk-container-id-1 div.sk-label input.sk-toggleable__control:checked~label.sk-toggleable__label {background-color: #d4ebff;}#sk-container-id-1 input.sk-hidden--visually {border: 0;clip: rect(1px 1px 1px 1px);clip: rect(1px, 1px, 1px, 1px);height: 1px;margin: -1px;overflow: hidden;padding: 0;position: absolute;width: 1px;}#sk-container-id-1 div.sk-estimator {font-family: monospace;background-color: #f0f8ff;border: 1px dotted black;border-radius: 0.25em;box-sizing: border-box;margin-bottom: 0.5em;}#sk-container-id-1 div.sk-estimator:hover {background-color: #d4ebff;}#sk-container-id-1 div.sk-parallel-item::after {content: \"\";width: 100%;border-bottom: 1px solid gray;flex-grow: 1;}#sk-container-id-1 div.sk-label:hover label.sk-toggleable__label {background-color: #d4ebff;}#sk-container-id-1 div.sk-serial::before {content: \"\";position: absolute;border-left: 1px solid gray;box-sizing: border-box;top: 0;bottom: 0;left: 50%;z-index: 0;}#sk-container-id-1 div.sk-serial {display: flex;flex-direction: column;align-items: center;background-color: white;padding-right: 0.2em;padding-left: 0.2em;position: relative;}#sk-container-id-1 div.sk-item {position: relative;z-index: 1;}#sk-container-id-1 div.sk-parallel {display: flex;align-items: stretch;justify-content: center;background-color: white;position: relative;}#sk-container-id-1 div.sk-item::before, #sk-container-id-1 div.sk-parallel-item::before {content: \"\";position: absolute;border-left: 1px solid gray;box-sizing: border-box;top: 0;bottom: 0;left: 50%;z-index: -1;}#sk-container-id-1 div.sk-parallel-item {display: flex;flex-direction: column;z-index: 1;position: relative;background-color: white;}#sk-container-id-1 div.sk-parallel-item:first-child::after {align-self: flex-end;width: 50%;}#sk-container-id-1 div.sk-parallel-item:last-child::after {align-self: flex-start;width: 50%;}#sk-container-id-1 div.sk-parallel-item:only-child::after {width: 0;}#sk-container-id-1 div.sk-dashed-wrapped {border: 1px dashed gray;margin: 0 0.4em 0.5em 0.4em;box-sizing: border-box;padding-bottom: 0.4em;background-color: white;}#sk-container-id-1 div.sk-label label {font-family: monospace;font-weight: bold;display: inline-block;line-height: 1.2em;}#sk-container-id-1 div.sk-label-container {text-align: center;}#sk-container-id-1 div.sk-container {/* jupyter's `normalize.less` sets `[hidden] { display: none; }` but bootstrap.min.css set `[hidden] { display: none !important; }` so we also need the `!important` here to be able to override the default hidden behavior on the sphinx rendered scikit-learn.org. See: https://github.com/scikit-learn/scikit-learn/issues/21755 */display: inline-block !important;position: relative;}#sk-container-id-1 div.sk-text-repr-fallback {display: none;}</style><div id=\"sk-container-id-1\" class=\"sk-top-container\"><div class=\"sk-text-repr-fallback\"><pre>LogisticRegression(C=0.05, max_iter=10000, multi_class=&#x27;multinomial&#x27;,\n",
       "                   solver=&#x27;newton-cg&#x27;)</pre><b>In a Jupyter environment, please rerun this cell to show the HTML representation or trust the notebook. <br />On GitHub, the HTML representation is unable to render, please try loading this page with nbviewer.org.</b></div><div class=\"sk-container\" hidden><div class=\"sk-item\"><div class=\"sk-estimator sk-toggleable\"><input class=\"sk-toggleable__control sk-hidden--visually\" id=\"sk-estimator-id-1\" type=\"checkbox\" checked><label for=\"sk-estimator-id-1\" class=\"sk-toggleable__label sk-toggleable__label-arrow\">LogisticRegression</label><div class=\"sk-toggleable__content\"><pre>LogisticRegression(C=0.05, max_iter=10000, multi_class=&#x27;multinomial&#x27;,\n",
       "                   solver=&#x27;newton-cg&#x27;)</pre></div></div></div></div></div>"
      ],
      "text/plain": [
       "LogisticRegression(C=0.05, max_iter=10000, multi_class='multinomial',\n",
       "                   solver='newton-cg')"
      ]
     },
     "execution_count": 21,
     "metadata": {},
     "output_type": "execute_result"
    }
   ],
   "source": [
    "from sklearn.linear_model import LogisticRegression\n",
    "mlr = LogisticRegression(C=0.05, max_iter=10000, solver='newton-cg', multi_class='multinomial')\n",
    "mlr.fit(X_train_vectorized, y_train)"
   ]
  },
  {
   "cell_type": "code",
   "execution_count": 22,
   "id": "5f5251bb",
   "metadata": {
    "id": "5f5251bb"
   },
   "outputs": [],
   "source": [
    "from sklearn.metrics import accuracy_score\n",
    "X_test_transformed = vect.transform(X_test)\n",
    "y_pred_train = mlr.predict(X_train_vectorized)\n",
    "y_pred_test = mlr.predict(X_test_transformed)"
   ]
  },
  {
   "cell_type": "markdown",
   "id": "207738f7",
   "metadata": {
    "id": "207738f7"
   },
   "source": [
    "Train and Test Accuracies:"
   ]
  },
  {
   "cell_type": "code",
   "execution_count": 23,
   "id": "8fea51f6",
   "metadata": {
    "colab": {
     "base_uri": "https://localhost:8080/"
    },
    "id": "8fea51f6",
    "outputId": "50c4212b-eaf3-4763-c84e-7604f4d694a5"
   },
   "outputs": [
    {
     "name": "stdout",
     "output_type": "stream",
     "text": [
      "Train accuracy =  0.7428389560789306\n",
      "Test accuracy =  0.6903225806451613\n"
     ]
    }
   ],
   "source": [
    "print('Train accuracy = ', accuracy_score(y_train, y_pred_train))\n",
    "print('Test accuracy = ', accuracy_score(y_test, y_pred_test))"
   ]
  },
  {
   "cell_type": "markdown",
   "id": "0a52e6e9",
   "metadata": {
    "id": "0a52e6e9"
   },
   "source": [
    "Predicting sentences"
   ]
  },
  {
   "cell_type": "code",
   "execution_count": 24,
   "id": "53d1c4ae",
   "metadata": {
    "id": "53d1c4ae"
   },
   "outputs": [],
   "source": [
    "tweets = pd.DataFrame([\"ನೀವು ಯಾವುದೇ ಪ್ರಯೋಜನವಿಲ್ಲ\",#0angry\n",
    "                       \"ತುಂಬಾ ಒಳ್ಳೆಯದು\",#1happy\n",
    "                       \"ನನ್ನ ಖಾತೆಯಲ್ಲಿ ಎಷ್ಟು ಬ್ಯಾಲೆನ್ಸ್ ಇದೆ\",#2neutral\n",
    "                       \"ಕ್ಯಾಬ್ ಚಾಲಕ ನನ್ನನ್ನು ನಿಂದಿಸಿದ\",#3sad\n",
    "                       \"ನನ್ನ ನಾಯಿ ನಿನ್ನೆ ಸತ್ತುಹೋಯಿತು.\", #sad\n",
    "                       \"ನಾನು ಬಡ್ತಿ ಹೊಂದಲು ಸಂತೋಷಪಡುತ್ತೇನೆ\",#1happy\n",
    "                       \"ಮರುಪ್ರಾರಂಭಿಸಿದಾಗಲೂ ಆಗುತ್ತಿಲ್ಲ\",#3sad\n",
    "                       \"ನನ್ನ ಪರೀಕ್ಷೆಯಲ್ಲಿ ನಾನು ಉತ್ತಮ ಅಂಕಗಳನ್ನು ಗಳಿಸಿದೆ\",#1happy\n",
    "                       \"ಅವರು ನನ್ನನ್ನು ನಾಳೆ ಬರಲು ಹೇಳಿದರು\",#2neutral\n",
    "                       \"ಅವನು ನನ್ನನ್ನು ಗದರಿಸಿದನು\",#3sad\n",
    "                       \"ಸೇವೆಯು ಹತಾಶವಾಗಿತ್ತು\",#0angry\n",
    "                       \"ಇವತ್ತು ಮಂಗಳವಾರ\",\n",
    "                       \n",
    "       ])\n",
    "true_emo=[0,1,2,3,3,1,3,1,2,3,0,2]\n",
    "\n",
    "tweet_count = vect.transform(tweets[0])"
   ]
  },
  {
   "cell_type": "code",
   "execution_count": 25,
   "id": "03232923",
   "metadata": {
    "colab": {
     "base_uri": "https://localhost:8080/"
    },
    "id": "03232923",
    "outputId": "ca836b0d-b31b-4a5b-8280-6399e5b52a4c"
   },
   "outputs": [
    {
     "name": "stdout",
     "output_type": "stream",
     "text": [
      "[2 1 2 2 3 0 2 1 2 3 2 2]\n"
     ]
    }
   ],
   "source": [
    "tweet_pred = mlr.predict(tweet_count)\n",
    "print(tweet_pred)\n"
   ]
  },
  {
   "cell_type": "markdown",
   "id": "2S5SC2YzaiHN",
   "metadata": {
    "id": "2S5SC2YzaiHN"
   },
   "source": [
    "Comparing between actual emotions and predicted emotions"
   ]
  },
  {
   "cell_type": "code",
   "execution_count": 26,
   "id": "d1621a8d",
   "metadata": {
    "colab": {
     "base_uri": "https://localhost:8080/",
     "height": 426
    },
    "id": "d1621a8d",
    "outputId": "093f9219-65f0-474b-95dc-1e4e02c59dc9"
   },
   "outputs": [
    {
     "data": {
      "text/html": [
       "<div>\n",
       "<style scoped>\n",
       "    .dataframe tbody tr th:only-of-type {\n",
       "        vertical-align: middle;\n",
       "    }\n",
       "\n",
       "    .dataframe tbody tr th {\n",
       "        vertical-align: top;\n",
       "    }\n",
       "\n",
       "    .dataframe thead th {\n",
       "        text-align: right;\n",
       "    }\n",
       "</style>\n",
       "<table border=\"1\" class=\"dataframe\">\n",
       "  <thead>\n",
       "    <tr style=\"text-align: right;\">\n",
       "      <th></th>\n",
       "      <th>text</th>\n",
       "      <th>actual_emotion</th>\n",
       "      <th>predicted_emotion</th>\n",
       "    </tr>\n",
       "  </thead>\n",
       "  <tbody>\n",
       "    <tr>\n",
       "      <th>0</th>\n",
       "      <td>ನೀವು ಯಾವುದೇ ಪ್ರಯೋಜನವಿಲ್ಲ</td>\n",
       "      <td>Angry</td>\n",
       "      <td>Neutral</td>\n",
       "    </tr>\n",
       "    <tr>\n",
       "      <th>1</th>\n",
       "      <td>ತುಂಬಾ ಒಳ್ಳೆಯದು</td>\n",
       "      <td>Happy</td>\n",
       "      <td>Happy</td>\n",
       "    </tr>\n",
       "    <tr>\n",
       "      <th>2</th>\n",
       "      <td>ನನ್ನ ಖಾತೆಯಲ್ಲಿ ಎಷ್ಟು ಬ್ಯಾಲೆನ್ಸ್ ಇದೆ</td>\n",
       "      <td>Neutral</td>\n",
       "      <td>Neutral</td>\n",
       "    </tr>\n",
       "    <tr>\n",
       "      <th>3</th>\n",
       "      <td>ಕ್ಯಾಬ್ ಚಾಲಕ ನನ್ನನ್ನು ನಿಂದಿಸಿದ</td>\n",
       "      <td>Sad</td>\n",
       "      <td>Neutral</td>\n",
       "    </tr>\n",
       "    <tr>\n",
       "      <th>4</th>\n",
       "      <td>ನನ್ನ ನಾಯಿ ನಿನ್ನೆ ಸತ್ತುಹೋಯಿತು.</td>\n",
       "      <td>Sad</td>\n",
       "      <td>Sad</td>\n",
       "    </tr>\n",
       "    <tr>\n",
       "      <th>5</th>\n",
       "      <td>ನಾನು ಬಡ್ತಿ ಹೊಂದಲು ಸಂತೋಷಪಡುತ್ತೇನೆ</td>\n",
       "      <td>Happy</td>\n",
       "      <td>Angry</td>\n",
       "    </tr>\n",
       "    <tr>\n",
       "      <th>6</th>\n",
       "      <td>ಮರುಪ್ರಾರಂಭಿಸಿದಾಗಲೂ ಆಗುತ್ತಿಲ್ಲ</td>\n",
       "      <td>Sad</td>\n",
       "      <td>Neutral</td>\n",
       "    </tr>\n",
       "    <tr>\n",
       "      <th>7</th>\n",
       "      <td>ನನ್ನ ಪರೀಕ್ಷೆಯಲ್ಲಿ ನಾನು ಉತ್ತಮ ಅಂಕಗಳನ್ನು ಗಳಿಸಿದೆ</td>\n",
       "      <td>Happy</td>\n",
       "      <td>Happy</td>\n",
       "    </tr>\n",
       "    <tr>\n",
       "      <th>8</th>\n",
       "      <td>ಅವರು ನನ್ನನ್ನು ನಾಳೆ ಬರಲು ಹೇಳಿದರು</td>\n",
       "      <td>Neutral</td>\n",
       "      <td>Neutral</td>\n",
       "    </tr>\n",
       "    <tr>\n",
       "      <th>9</th>\n",
       "      <td>ಅವನು ನನ್ನನ್ನು ಗದರಿಸಿದನು</td>\n",
       "      <td>Sad</td>\n",
       "      <td>Sad</td>\n",
       "    </tr>\n",
       "    <tr>\n",
       "      <th>10</th>\n",
       "      <td>ಸೇವೆಯು ಹತಾಶವಾಗಿತ್ತು</td>\n",
       "      <td>Angry</td>\n",
       "      <td>Neutral</td>\n",
       "    </tr>\n",
       "    <tr>\n",
       "      <th>11</th>\n",
       "      <td>ಇವತ್ತು ಮಂಗಳವಾರ</td>\n",
       "      <td>Neutral</td>\n",
       "      <td>Neutral</td>\n",
       "    </tr>\n",
       "  </tbody>\n",
       "</table>\n",
       "</div>"
      ],
      "text/plain": [
       "                                              text actual_emotion   \n",
       "0                         ನೀವು ಯಾವುದೇ ಪ್ರಯೋಜನವಿಲ್ಲ          Angry  \\\n",
       "1                                   ತುಂಬಾ ಒಳ್ಳೆಯದು          Happy   \n",
       "2              ನನ್ನ ಖಾತೆಯಲ್ಲಿ ಎಷ್ಟು ಬ್ಯಾಲೆನ್ಸ್ ಇದೆ        Neutral   \n",
       "3                    ಕ್ಯಾಬ್ ಚಾಲಕ ನನ್ನನ್ನು ನಿಂದಿಸಿದ            Sad   \n",
       "4                    ನನ್ನ ನಾಯಿ ನಿನ್ನೆ ಸತ್ತುಹೋಯಿತು.            Sad   \n",
       "5                 ನಾನು ಬಡ್ತಿ ಹೊಂದಲು ಸಂತೋಷಪಡುತ್ತೇನೆ          Happy   \n",
       "6                    ಮರುಪ್ರಾರಂಭಿಸಿದಾಗಲೂ ಆಗುತ್ತಿಲ್ಲ            Sad   \n",
       "7   ನನ್ನ ಪರೀಕ್ಷೆಯಲ್ಲಿ ನಾನು ಉತ್ತಮ ಅಂಕಗಳನ್ನು ಗಳಿಸಿದೆ          Happy   \n",
       "8                  ಅವರು ನನ್ನನ್ನು ನಾಳೆ ಬರಲು ಹೇಳಿದರು        Neutral   \n",
       "9                          ಅವನು ನನ್ನನ್ನು ಗದರಿಸಿದನು            Sad   \n",
       "10                             ಸೇವೆಯು ಹತಾಶವಾಗಿತ್ತು          Angry   \n",
       "11                                  ಇವತ್ತು ಮಂಗಳವಾರ        Neutral   \n",
       "\n",
       "   predicted_emotion  \n",
       "0            Neutral  \n",
       "1              Happy  \n",
       "2            Neutral  \n",
       "3            Neutral  \n",
       "4                Sad  \n",
       "5              Angry  \n",
       "6            Neutral  \n",
       "7              Happy  \n",
       "8            Neutral  \n",
       "9                Sad  \n",
       "10           Neutral  \n",
       "11           Neutral  "
      ]
     },
     "execution_count": 26,
     "metadata": {},
     "output_type": "execute_result"
    }
   ],
   "source": [
    "final_result=tweets.copy()\n",
    "final_result['true_emotion']=true_emo\n",
    "final_result['result']=tweet_pred\n",
    "final_result=final_result.rename(columns={0:\"text\"})\n",
    "\n",
    "final_result=final_result.rename(columns={\"result\":\"predicted_emotion\"})\n",
    "final_result=final_result.rename(columns={\"true_emotion\":\"actual_emotion\"})\n",
    "final_result=final_result.replace({0: 'Angry', 1: 'Happy', 2: 'Neutral', 3: 'Sad'})\n",
    "final_result"
   ]
  },
  {
   "cell_type": "markdown",
   "id": "Gd_9mlaoarW0",
   "metadata": {
    "id": "Gd_9mlaoarW0"
   },
   "source": [
    "Sample Dataset Accuracy"
   ]
  },
  {
   "cell_type": "code",
   "execution_count": 27,
   "id": "d1047480",
   "metadata": {
    "colab": {
     "base_uri": "https://localhost:8080/"
    },
    "id": "d1047480",
    "outputId": "10ee4d35-9078-4d7f-e64c-42705e81771a"
   },
   "outputs": [
    {
     "name": "stdout",
     "output_type": "stream",
     "text": [
      "Accuracy obtained in sample dataset:  0.5833333333333334\n"
     ]
    }
   ],
   "source": [
    "c=0\n",
    "for i in range(len(final_result['text'])):\n",
    "    if final_result['predicted_emotion'][i]==final_result['actual_emotion'][i]:\n",
    "        c+=1\n",
    "print(\"Accuracy obtained in sample dataset: \",c/len(final_result['text']))"
   ]
  },
  {
   "cell_type": "markdown",
   "id": "a8ca1585",
   "metadata": {
    "id": "a8ca1585"
   },
   "source": [
    "F1 Score of MLR model:"
   ]
  },
  {
   "cell_type": "code",
   "execution_count": 28,
   "id": "0384125a",
   "metadata": {
    "colab": {
     "base_uri": "https://localhost:8080/"
    },
    "id": "0384125a",
    "outputId": "360170ba-20de-419d-d30d-1cdd046dadcc"
   },
   "outputs": [
    {
     "name": "stdout",
     "output_type": "stream",
     "text": [
      "F1 score: 0.690939393601063\n"
     ]
    }
   ],
   "source": [
    "from sklearn.metrics import f1_score\n",
    "print('F1 score:', f1_score(y_test, y_pred_test, average=\"macro\"))"
   ]
  },
  {
   "cell_type": "code",
   "execution_count": 29,
   "id": "4e136dd5",
   "metadata": {
    "id": "4e136dd5"
   },
   "outputs": [],
   "source": [
    "from sklearn.metrics import classification_report"
   ]
  },
  {
   "cell_type": "markdown",
   "id": "74856dbc",
   "metadata": {
    "id": "74856dbc"
   },
   "source": [
    "Classification report of MLR model:"
   ]
  },
  {
   "cell_type": "code",
   "execution_count": 30,
   "id": "31276e01",
   "metadata": {
    "colab": {
     "base_uri": "https://localhost:8080/"
    },
    "id": "31276e01",
    "outputId": "ff6f2914-f8c9-4a1b-f269-60ed4b71935f"
   },
   "outputs": [
    {
     "name": "stdout",
     "output_type": "stream",
     "text": [
      "              precision    recall  f1-score   support\n",
      "\n",
      "           0       0.79      0.61      0.69        74\n",
      "           1       0.72      0.62      0.66        78\n",
      "           2       0.56      0.89      0.69        83\n",
      "           3       0.85      0.63      0.72        75\n",
      "\n",
      "    accuracy                           0.69       310\n",
      "   macro avg       0.73      0.69      0.69       310\n",
      "weighted avg       0.73      0.69      0.69       310\n",
      "\n"
     ]
    }
   ],
   "source": [
    "print(classification_report(y_test, y_pred_test))"
   ]
  },
  {
   "cell_type": "markdown",
   "id": "c8c2874d",
   "metadata": {
    "id": "c8c2874d"
   },
   "source": [
    "Saving MLR model to disk:"
   ]
  },
  {
   "cell_type": "code",
   "execution_count": 31,
   "id": "9ae1f43a",
   "metadata": {
    "id": "9ae1f43a"
   },
   "outputs": [],
   "source": [
    "pickle.dump(mlr, open('mlr_model.sav', 'wb'))"
   ]
  },
  {
   "cell_type": "markdown",
   "id": "afce4f58",
   "metadata": {
    "id": "afce4f58"
   },
   "source": [
    "__________________________________________________________________________________________\n"
   ]
  },
  {
   "cell_type": "markdown",
   "id": "4b4abee3",
   "metadata": {
    "id": "4b4abee3"
   },
   "source": [
    "## Decision Tree Classifier"
   ]
  },
  {
   "cell_type": "code",
   "execution_count": 32,
   "id": "AYXDsdoy7mi3",
   "metadata": {
    "colab": {
     "base_uri": "https://localhost:8080/"
    },
    "id": "AYXDsdoy7mi3",
    "outputId": "1d3b0c37-101a-48af-ce66-70c11a7e1eb7"
   },
   "outputs": [
    {
     "data": {
      "text/html": [
       "<style>#sk-container-id-2 {color: black;background-color: white;}#sk-container-id-2 pre{padding: 0;}#sk-container-id-2 div.sk-toggleable {background-color: white;}#sk-container-id-2 label.sk-toggleable__label {cursor: pointer;display: block;width: 100%;margin-bottom: 0;padding: 0.3em;box-sizing: border-box;text-align: center;}#sk-container-id-2 label.sk-toggleable__label-arrow:before {content: \"▸\";float: left;margin-right: 0.25em;color: #696969;}#sk-container-id-2 label.sk-toggleable__label-arrow:hover:before {color: black;}#sk-container-id-2 div.sk-estimator:hover label.sk-toggleable__label-arrow:before {color: black;}#sk-container-id-2 div.sk-toggleable__content {max-height: 0;max-width: 0;overflow: hidden;text-align: left;background-color: #f0f8ff;}#sk-container-id-2 div.sk-toggleable__content pre {margin: 0.2em;color: black;border-radius: 0.25em;background-color: #f0f8ff;}#sk-container-id-2 input.sk-toggleable__control:checked~div.sk-toggleable__content {max-height: 200px;max-width: 100%;overflow: auto;}#sk-container-id-2 input.sk-toggleable__control:checked~label.sk-toggleable__label-arrow:before {content: \"▾\";}#sk-container-id-2 div.sk-estimator input.sk-toggleable__control:checked~label.sk-toggleable__label {background-color: #d4ebff;}#sk-container-id-2 div.sk-label input.sk-toggleable__control:checked~label.sk-toggleable__label {background-color: #d4ebff;}#sk-container-id-2 input.sk-hidden--visually {border: 0;clip: rect(1px 1px 1px 1px);clip: rect(1px, 1px, 1px, 1px);height: 1px;margin: -1px;overflow: hidden;padding: 0;position: absolute;width: 1px;}#sk-container-id-2 div.sk-estimator {font-family: monospace;background-color: #f0f8ff;border: 1px dotted black;border-radius: 0.25em;box-sizing: border-box;margin-bottom: 0.5em;}#sk-container-id-2 div.sk-estimator:hover {background-color: #d4ebff;}#sk-container-id-2 div.sk-parallel-item::after {content: \"\";width: 100%;border-bottom: 1px solid gray;flex-grow: 1;}#sk-container-id-2 div.sk-label:hover label.sk-toggleable__label {background-color: #d4ebff;}#sk-container-id-2 div.sk-serial::before {content: \"\";position: absolute;border-left: 1px solid gray;box-sizing: border-box;top: 0;bottom: 0;left: 50%;z-index: 0;}#sk-container-id-2 div.sk-serial {display: flex;flex-direction: column;align-items: center;background-color: white;padding-right: 0.2em;padding-left: 0.2em;position: relative;}#sk-container-id-2 div.sk-item {position: relative;z-index: 1;}#sk-container-id-2 div.sk-parallel {display: flex;align-items: stretch;justify-content: center;background-color: white;position: relative;}#sk-container-id-2 div.sk-item::before, #sk-container-id-2 div.sk-parallel-item::before {content: \"\";position: absolute;border-left: 1px solid gray;box-sizing: border-box;top: 0;bottom: 0;left: 50%;z-index: -1;}#sk-container-id-2 div.sk-parallel-item {display: flex;flex-direction: column;z-index: 1;position: relative;background-color: white;}#sk-container-id-2 div.sk-parallel-item:first-child::after {align-self: flex-end;width: 50%;}#sk-container-id-2 div.sk-parallel-item:last-child::after {align-self: flex-start;width: 50%;}#sk-container-id-2 div.sk-parallel-item:only-child::after {width: 0;}#sk-container-id-2 div.sk-dashed-wrapped {border: 1px dashed gray;margin: 0 0.4em 0.5em 0.4em;box-sizing: border-box;padding-bottom: 0.4em;background-color: white;}#sk-container-id-2 div.sk-label label {font-family: monospace;font-weight: bold;display: inline-block;line-height: 1.2em;}#sk-container-id-2 div.sk-label-container {text-align: center;}#sk-container-id-2 div.sk-container {/* jupyter's `normalize.less` sets `[hidden] { display: none; }` but bootstrap.min.css set `[hidden] { display: none !important; }` so we also need the `!important` here to be able to override the default hidden behavior on the sphinx rendered scikit-learn.org. See: https://github.com/scikit-learn/scikit-learn/issues/21755 */display: inline-block !important;position: relative;}#sk-container-id-2 div.sk-text-repr-fallback {display: none;}</style><div id=\"sk-container-id-2\" class=\"sk-top-container\"><div class=\"sk-text-repr-fallback\"><pre>DecisionTreeClassifier()</pre><b>In a Jupyter environment, please rerun this cell to show the HTML representation or trust the notebook. <br />On GitHub, the HTML representation is unable to render, please try loading this page with nbviewer.org.</b></div><div class=\"sk-container\" hidden><div class=\"sk-item\"><div class=\"sk-estimator sk-toggleable\"><input class=\"sk-toggleable__control sk-hidden--visually\" id=\"sk-estimator-id-2\" type=\"checkbox\" checked><label for=\"sk-estimator-id-2\" class=\"sk-toggleable__label sk-toggleable__label-arrow\">DecisionTreeClassifier</label><div class=\"sk-toggleable__content\"><pre>DecisionTreeClassifier()</pre></div></div></div></div></div>"
      ],
      "text/plain": [
       "DecisionTreeClassifier()"
      ]
     },
     "execution_count": 32,
     "metadata": {},
     "output_type": "execute_result"
    }
   ],
   "source": [
    "from sklearn import tree\n",
    "# Decision tree fit\n",
    "dt = tree.DecisionTreeClassifier()\n",
    "dt.fit(X_train_vectorized, y_train)\n"
   ]
  },
  {
   "cell_type": "code",
   "execution_count": 33,
   "id": "F8cRA9Do9WaP",
   "metadata": {
    "id": "F8cRA9Do9WaP"
   },
   "outputs": [],
   "source": [
    "#calculating score\n",
    "X_test_transformed = vect.transform(X_test)\n",
    "y_dt_train = dt.predict(X_train_vectorized)\n",
    "y_dt_test = dt.predict(X_test_transformed)\n"
   ]
  },
  {
   "cell_type": "markdown",
   "id": "14b576b5",
   "metadata": {
    "id": "14b576b5"
   },
   "source": [
    "Train and Test Acccuracies:"
   ]
  },
  {
   "cell_type": "code",
   "execution_count": 34,
   "id": "93ae3ca7",
   "metadata": {
    "colab": {
     "base_uri": "https://localhost:8080/"
    },
    "id": "93ae3ca7",
    "outputId": "50372e9e-a7ae-4cd1-ca91-4d1c450a6b23"
   },
   "outputs": [
    {
     "name": "stdout",
     "output_type": "stream",
     "text": [
      "Train accuracy =  0.9140674729471674\n",
      "Test accuracy =  0.8096774193548387\n"
     ]
    }
   ],
   "source": [
    "print('Train accuracy = ', accuracy_score(y_train, y_dt_train))\n",
    "print('Test accuracy = ', accuracy_score(y_test, y_dt_test))"
   ]
  },
  {
   "cell_type": "markdown",
   "id": "d652995e",
   "metadata": {
    "id": "d652995e"
   },
   "source": [
    "Predicting sentences:"
   ]
  },
  {
   "cell_type": "code",
   "execution_count": 35,
   "id": "rb0C6pkl9qAa",
   "metadata": {
    "colab": {
     "base_uri": "https://localhost:8080/"
    },
    "id": "rb0C6pkl9qAa",
    "outputId": "f099c249-a632-4c96-edbd-903cf63de169"
   },
   "outputs": [
    {
     "name": "stdout",
     "output_type": "stream",
     "text": [
      "[2 1 2 1 2 2 2 2 2 3 2 2]\n"
     ]
    },
    {
     "data": {
      "text/plain": [
       "0                           ನೀವು ಯಾವುದೇ ಪ್ರಯೋಜನವಿಲ್ಲ\n",
       "1                                     ತುಂಬಾ ಒಳ್ಳೆಯದು\n",
       "2                ನನ್ನ ಖಾತೆಯಲ್ಲಿ ಎಷ್ಟು ಬ್ಯಾಲೆನ್ಸ್ ಇದೆ\n",
       "3                      ಕ್ಯಾಬ್ ಚಾಲಕ ನನ್ನನ್ನು ನಿಂದಿಸಿದ\n",
       "4                      ನನ್ನ ನಾಯಿ ನಿನ್ನೆ ಸತ್ತುಹೋಯಿತು.\n",
       "5                   ನಾನು ಬಡ್ತಿ ಹೊಂದಲು ಸಂತೋಷಪಡುತ್ತೇನೆ\n",
       "6                      ಮರುಪ್ರಾರಂಭಿಸಿದಾಗಲೂ ಆಗುತ್ತಿಲ್ಲ\n",
       "7     ನನ್ನ ಪರೀಕ್ಷೆಯಲ್ಲಿ ನಾನು ಉತ್ತಮ ಅಂಕಗಳನ್ನು ಗಳಿಸಿದೆ\n",
       "8                    ಅವರು ನನ್ನನ್ನು ನಾಳೆ ಬರಲು ಹೇಳಿದರು\n",
       "9                            ಅವನು ನನ್ನನ್ನು ಗದರಿಸಿದನು\n",
       "10                               ಸೇವೆಯು ಹತಾಶವಾಗಿತ್ತು\n",
       "11                                    ಇವತ್ತು ಮಂಗಳವಾರ\n",
       "Name: 0, dtype: object"
      ]
     },
     "execution_count": 35,
     "metadata": {},
     "output_type": "execute_result"
    }
   ],
   "source": [
    "#Predicting the emotion of the tweet by dt\n",
    "tweet_pred = dt.predict(tweet_count)\n",
    "print(tweet_pred)\n",
    "tweets[0]"
   ]
  },
  {
   "cell_type": "markdown",
   "id": "fU4f8sT3bI-j",
   "metadata": {
    "id": "fU4f8sT3bI-j"
   },
   "source": [
    "Comparing between actual emotions and predicted emotions"
   ]
  },
  {
   "cell_type": "code",
   "execution_count": 36,
   "id": "70Ixi_nz-f04",
   "metadata": {
    "colab": {
     "base_uri": "https://localhost:8080/",
     "height": 426
    },
    "id": "70Ixi_nz-f04",
    "outputId": "9c622c2d-9290-49b4-9daf-228063042005"
   },
   "outputs": [
    {
     "data": {
      "text/html": [
       "<div>\n",
       "<style scoped>\n",
       "    .dataframe tbody tr th:only-of-type {\n",
       "        vertical-align: middle;\n",
       "    }\n",
       "\n",
       "    .dataframe tbody tr th {\n",
       "        vertical-align: top;\n",
       "    }\n",
       "\n",
       "    .dataframe thead th {\n",
       "        text-align: right;\n",
       "    }\n",
       "</style>\n",
       "<table border=\"1\" class=\"dataframe\">\n",
       "  <thead>\n",
       "    <tr style=\"text-align: right;\">\n",
       "      <th></th>\n",
       "      <th>text</th>\n",
       "      <th>actual_emotion</th>\n",
       "      <th>predicted_emotion</th>\n",
       "    </tr>\n",
       "  </thead>\n",
       "  <tbody>\n",
       "    <tr>\n",
       "      <th>0</th>\n",
       "      <td>ನೀವು ಯಾವುದೇ ಪ್ರಯೋಜನವಿಲ್ಲ</td>\n",
       "      <td>Angry</td>\n",
       "      <td>Neutral</td>\n",
       "    </tr>\n",
       "    <tr>\n",
       "      <th>1</th>\n",
       "      <td>ತುಂಬಾ ಒಳ್ಳೆಯದು</td>\n",
       "      <td>Happy</td>\n",
       "      <td>Happy</td>\n",
       "    </tr>\n",
       "    <tr>\n",
       "      <th>2</th>\n",
       "      <td>ನನ್ನ ಖಾತೆಯಲ್ಲಿ ಎಷ್ಟು ಬ್ಯಾಲೆನ್ಸ್ ಇದೆ</td>\n",
       "      <td>Neutral</td>\n",
       "      <td>Neutral</td>\n",
       "    </tr>\n",
       "    <tr>\n",
       "      <th>3</th>\n",
       "      <td>ಕ್ಯಾಬ್ ಚಾಲಕ ನನ್ನನ್ನು ನಿಂದಿಸಿದ</td>\n",
       "      <td>Sad</td>\n",
       "      <td>Happy</td>\n",
       "    </tr>\n",
       "    <tr>\n",
       "      <th>4</th>\n",
       "      <td>ನನ್ನ ನಾಯಿ ನಿನ್ನೆ ಸತ್ತುಹೋಯಿತು.</td>\n",
       "      <td>Sad</td>\n",
       "      <td>Neutral</td>\n",
       "    </tr>\n",
       "    <tr>\n",
       "      <th>5</th>\n",
       "      <td>ನಾನು ಬಡ್ತಿ ಹೊಂದಲು ಸಂತೋಷಪಡುತ್ತೇನೆ</td>\n",
       "      <td>Happy</td>\n",
       "      <td>Neutral</td>\n",
       "    </tr>\n",
       "    <tr>\n",
       "      <th>6</th>\n",
       "      <td>ಮರುಪ್ರಾರಂಭಿಸಿದಾಗಲೂ ಆಗುತ್ತಿಲ್ಲ</td>\n",
       "      <td>Sad</td>\n",
       "      <td>Neutral</td>\n",
       "    </tr>\n",
       "    <tr>\n",
       "      <th>7</th>\n",
       "      <td>ನನ್ನ ಪರೀಕ್ಷೆಯಲ್ಲಿ ನಾನು ಉತ್ತಮ ಅಂಕಗಳನ್ನು ಗಳಿಸಿದೆ</td>\n",
       "      <td>Happy</td>\n",
       "      <td>Neutral</td>\n",
       "    </tr>\n",
       "    <tr>\n",
       "      <th>8</th>\n",
       "      <td>ಅವರು ನನ್ನನ್ನು ನಾಳೆ ಬರಲು ಹೇಳಿದರು</td>\n",
       "      <td>Neutral</td>\n",
       "      <td>Neutral</td>\n",
       "    </tr>\n",
       "    <tr>\n",
       "      <th>9</th>\n",
       "      <td>ಅವನು ನನ್ನನ್ನು ಗದರಿಸಿದನು</td>\n",
       "      <td>Sad</td>\n",
       "      <td>Sad</td>\n",
       "    </tr>\n",
       "    <tr>\n",
       "      <th>10</th>\n",
       "      <td>ಸೇವೆಯು ಹತಾಶವಾಗಿತ್ತು</td>\n",
       "      <td>Angry</td>\n",
       "      <td>Neutral</td>\n",
       "    </tr>\n",
       "    <tr>\n",
       "      <th>11</th>\n",
       "      <td>ಇವತ್ತು ಮಂಗಳವಾರ</td>\n",
       "      <td>Neutral</td>\n",
       "      <td>Neutral</td>\n",
       "    </tr>\n",
       "  </tbody>\n",
       "</table>\n",
       "</div>"
      ],
      "text/plain": [
       "                                              text actual_emotion   \n",
       "0                         ನೀವು ಯಾವುದೇ ಪ್ರಯೋಜನವಿಲ್ಲ          Angry  \\\n",
       "1                                   ತುಂಬಾ ಒಳ್ಳೆಯದು          Happy   \n",
       "2              ನನ್ನ ಖಾತೆಯಲ್ಲಿ ಎಷ್ಟು ಬ್ಯಾಲೆನ್ಸ್ ಇದೆ        Neutral   \n",
       "3                    ಕ್ಯಾಬ್ ಚಾಲಕ ನನ್ನನ್ನು ನಿಂದಿಸಿದ            Sad   \n",
       "4                    ನನ್ನ ನಾಯಿ ನಿನ್ನೆ ಸತ್ತುಹೋಯಿತು.            Sad   \n",
       "5                 ನಾನು ಬಡ್ತಿ ಹೊಂದಲು ಸಂತೋಷಪಡುತ್ತೇನೆ          Happy   \n",
       "6                    ಮರುಪ್ರಾರಂಭಿಸಿದಾಗಲೂ ಆಗುತ್ತಿಲ್ಲ            Sad   \n",
       "7   ನನ್ನ ಪರೀಕ್ಷೆಯಲ್ಲಿ ನಾನು ಉತ್ತಮ ಅಂಕಗಳನ್ನು ಗಳಿಸಿದೆ          Happy   \n",
       "8                  ಅವರು ನನ್ನನ್ನು ನಾಳೆ ಬರಲು ಹೇಳಿದರು        Neutral   \n",
       "9                          ಅವನು ನನ್ನನ್ನು ಗದರಿಸಿದನು            Sad   \n",
       "10                             ಸೇವೆಯು ಹತಾಶವಾಗಿತ್ತು          Angry   \n",
       "11                                  ಇವತ್ತು ಮಂಗಳವಾರ        Neutral   \n",
       "\n",
       "   predicted_emotion  \n",
       "0            Neutral  \n",
       "1              Happy  \n",
       "2            Neutral  \n",
       "3              Happy  \n",
       "4            Neutral  \n",
       "5            Neutral  \n",
       "6            Neutral  \n",
       "7            Neutral  \n",
       "8            Neutral  \n",
       "9                Sad  \n",
       "10           Neutral  \n",
       "11           Neutral  "
      ]
     },
     "execution_count": 36,
     "metadata": {},
     "output_type": "execute_result"
    }
   ],
   "source": [
    "final_result_dt=tweets.copy()\n",
    "final_result_dt['true_emotion']=true_emo\n",
    "final_result_dt['result']=tweet_pred\n",
    "final_result_dt=final_result_dt.rename(columns={0:\"text\"})\n",
    "final_result_dt=final_result_dt.rename(columns={\"result\":\"predicted_emotion\"})\n",
    "final_result_dt=final_result_dt.rename(columns={\"true_emotion\":\"actual_emotion\"})\n",
    "final_result_dt=final_result_dt.replace({0: 'Angry', 1: 'Happy', 2: 'Neutral', 3: 'Sad'})\n",
    "final_result_dt\n"
   ]
  },
  {
   "cell_type": "markdown",
   "id": "1ovqKYeMbM5D",
   "metadata": {
    "id": "1ovqKYeMbM5D"
   },
   "source": [
    "Sample Dataset Accuracy"
   ]
  },
  {
   "cell_type": "code",
   "execution_count": 37,
   "id": "42e27860",
   "metadata": {
    "colab": {
     "base_uri": "https://localhost:8080/"
    },
    "id": "42e27860",
    "outputId": "a5e411f2-ce91-41de-e5b7-35d4d7e4e9a6"
   },
   "outputs": [
    {
     "name": "stdout",
     "output_type": "stream",
     "text": [
      "Accuracy obtained in sample dataset:  0.5833333333333334\n"
     ]
    }
   ],
   "source": [
    "c=0\n",
    "for i in range(len(final_result['text'])):\n",
    "    if final_result['predicted_emotion'][i]==final_result['actual_emotion'][i]:\n",
    "        c+=1\n",
    "print(\"Accuracy obtained in sample dataset: \",c/len(final_result['text']))"
   ]
  },
  {
   "cell_type": "markdown",
   "id": "8bdc5900",
   "metadata": {
    "id": "8bdc5900"
   },
   "source": [
    "F1 Score for DT model:"
   ]
  },
  {
   "cell_type": "code",
   "execution_count": 38,
   "id": "614dee9e",
   "metadata": {
    "colab": {
     "base_uri": "https://localhost:8080/"
    },
    "id": "614dee9e",
    "outputId": "b27bb30c-f91a-4982-8e43-3ca9ba982a9b"
   },
   "outputs": [
    {
     "name": "stdout",
     "output_type": "stream",
     "text": [
      "F1 score: 0.8125762722313646\n"
     ]
    }
   ],
   "source": [
    "print('F1 score:', f1_score(y_test,y_dt_test, average=\"macro\"))"
   ]
  },
  {
   "cell_type": "markdown",
   "id": "205aba0a",
   "metadata": {
    "id": "205aba0a"
   },
   "source": [
    "Classification Report for DT model:"
   ]
  },
  {
   "cell_type": "code",
   "execution_count": 39,
   "id": "f5481b60",
   "metadata": {
    "colab": {
     "base_uri": "https://localhost:8080/"
    },
    "id": "f5481b60",
    "outputId": "a9d90311-82a4-41ab-9ddb-245898538a60"
   },
   "outputs": [
    {
     "name": "stdout",
     "output_type": "stream",
     "text": [
      "              precision    recall  f1-score   support\n",
      "\n",
      "           0       0.90      0.73      0.81        74\n",
      "           1       0.83      0.77      0.80        78\n",
      "           2       0.68      0.90      0.78        83\n",
      "           3       0.91      0.83      0.87        75\n",
      "\n",
      "    accuracy                           0.81       310\n",
      "   macro avg       0.83      0.81      0.81       310\n",
      "weighted avg       0.83      0.81      0.81       310\n",
      "\n"
     ]
    }
   ],
   "source": [
    "print(classification_report(y_test, y_dt_test))"
   ]
  },
  {
   "cell_type": "markdown",
   "id": "bbfc30a6",
   "metadata": {
    "id": "bbfc30a6"
   },
   "source": [
    "Saving decision tree classifier model to disk:"
   ]
  },
  {
   "cell_type": "code",
   "execution_count": 40,
   "id": "5c211220",
   "metadata": {
    "id": "5c211220"
   },
   "outputs": [],
   "source": [
    "pickle.dump(dt, open('dt_model.sav', 'wb'))"
   ]
  },
  {
   "cell_type": "markdown",
   "id": "2a3d388e",
   "metadata": {
    "id": "2a3d388e"
   },
   "source": [
    "_________________________________________________________________________"
   ]
  },
  {
   "cell_type": "markdown",
   "id": "10d37f22",
   "metadata": {
    "id": "10d37f22"
   },
   "source": [
    "## Predicting Emotions using models trained:"
   ]
  },
  {
   "cell_type": "code",
   "execution_count": 41,
   "id": "a1cf9a8d",
   "metadata": {
    "id": "a1cf9a8d"
   },
   "outputs": [],
   "source": [
    "def predictEmotionUsingMLR(input_txt):\n",
    "    in_txt=pd.DataFrame([input_txt])\n",
    "    txt_count=vect.transform(in_txt[0])\n",
    "    loaded_mlr_model = pickle.load(open('mlr_model.sav', 'rb'))\n",
    "    txt_pred_mlr=loaded_mlr_model.predict(txt_count)\n",
    "    return txt_pred_mlr\n",
    "    \n",
    "def predictEmotionUsingDT(input_txt):\n",
    "    in_txt=pd.DataFrame([input_txt])\n",
    "    txt_count=vect.transform(in_txt[0])\n",
    "    loaded_dt_model = pickle.load(open('dt_model.sav', 'rb'))\n",
    "    txt_pred_dt=loaded_dt_model.predict(txt_count)\n",
    "    return txt_pred_dt\n",
    "    \n",
    "def callingMLR(ttt):\n",
    "    output_txt_mlr=predictEmotionUsingMLR(ttt)\n",
    "    \n",
    "    if output_txt_mlr==0:\n",
    "        return \"Angry\"\n",
    "    elif output_txt_mlr==1:\n",
    "        return \"Happy\"\n",
    "    elif output_txt_mlr==2:\n",
    "        \n",
    "        return \"Neutral\"\n",
    "    elif output_txt_mlr==3:\n",
    "        return \"Sad\"\n",
    "    else:\n",
    "        return \"Oops! No emotion identified.\"\n",
    "\n",
    "    \n",
    "def callingDT(ttt):\n",
    "    \n",
    "    output_txt_dt=predictEmotionUsingDT(ttt)\n",
    "    \n",
    "    if output_txt_dt==0:\n",
    "        return \"Angry\"\n",
    "    elif output_txt_dt==1:\n",
    "        return \"Happy\"\n",
    "    elif output_txt_dt==2:\n",
    "        \n",
    "        return \"Neutral\"\n",
    "    elif output_txt_dt==3:\n",
    "        return \"Sad\"\n",
    "    else:\n",
    "        return \"Oops! No emotion identified.\"\n",
    "\n"
   ]
  },
  {
   "cell_type": "markdown",
   "id": "oHL-RmZTbrv3",
   "metadata": {
    "id": "oHL-RmZTbrv3"
   },
   "source": [
    "## Kannada Text to Speech with Pitch Shifting"
   ]
  },
  {
   "cell_type": "code",
   "execution_count": 42,
   "id": "BbhmGtJrb3is",
   "metadata": {
    "colab": {
     "base_uri": "https://localhost:8080/"
    },
    "id": "BbhmGtJrb3is",
    "outputId": "1ebeb1fa-fa16-4e19-ed21-f4a5188076cd"
   },
   "outputs": [
    {
     "name": "stdout",
     "output_type": "stream",
     "text": [
      "Requirement already satisfied: gtts in c:\\users\\user\\miniconda3\\envs\\sentiment_analysis\\lib\\site-packages (2.5.4)\n",
      "Requirement already satisfied: requests<3,>=2.27 in c:\\users\\user\\miniconda3\\envs\\sentiment_analysis\\lib\\site-packages (from gtts) (2.32.3)\n",
      "Requirement already satisfied: click<8.2,>=7.1 in c:\\users\\user\\miniconda3\\envs\\sentiment_analysis\\lib\\site-packages (from gtts) (8.1.8)\n",
      "Requirement already satisfied: colorama in c:\\users\\user\\miniconda3\\envs\\sentiment_analysis\\lib\\site-packages (from click<8.2,>=7.1->gtts) (0.4.6)\n",
      "Requirement already satisfied: charset_normalizer<4,>=2 in c:\\users\\user\\miniconda3\\envs\\sentiment_analysis\\lib\\site-packages (from requests<3,>=2.27->gtts) (3.4.1)\n",
      "Requirement already satisfied: idna<4,>=2.5 in c:\\users\\user\\miniconda3\\envs\\sentiment_analysis\\lib\\site-packages (from requests<3,>=2.27->gtts) (3.10)\n",
      "Requirement already satisfied: urllib3<3,>=1.21.1 in c:\\users\\user\\miniconda3\\envs\\sentiment_analysis\\lib\\site-packages (from requests<3,>=2.27->gtts) (2.3.0)\n",
      "Requirement already satisfied: certifi>=2017.4.17 in c:\\users\\user\\miniconda3\\envs\\sentiment_analysis\\lib\\site-packages (from requests<3,>=2.27->gtts) (2025.1.31)\n",
      "Note: you may need to restart the kernel to use updated packages.\n"
     ]
    }
   ],
   "source": [
    "pip install gtts"
   ]
  },
  {
   "cell_type": "code",
   "execution_count": 43,
   "id": "hhCsyeiqb_v5",
   "metadata": {
    "colab": {
     "base_uri": "https://localhost:8080/"
    },
    "id": "hhCsyeiqb_v5",
    "outputId": "54341237-6acf-499c-8dbb-94dceff8262c"
   },
   "outputs": [
    {
     "name": "stdout",
     "output_type": "stream",
     "text": [
      "Requirement already satisfied: pydub in c:\\users\\user\\miniconda3\\envs\\sentiment_analysis\\lib\\site-packages (0.25.1)\n",
      "Note: you may need to restart the kernel to use updated packages.\n"
     ]
    }
   ],
   "source": [
    "pip install pydub"
   ]
  },
  {
   "cell_type": "markdown",
   "id": "Gv4AQ5DlcF9G",
   "metadata": {
    "id": "Gv4AQ5DlcF9G"
   },
   "source": [
    "importing necessary libraries"
   ]
  },
  {
   "cell_type": "code",
   "execution_count": 44,
   "id": "8fxYo8ahcITt",
   "metadata": {
    "id": "8fxYo8ahcITt"
   },
   "outputs": [],
   "source": [
    "from gtts import gTTS\n",
    "from pydub import AudioSegment\n",
    "from pydub.playback import play\n",
    "import tempfile"
   ]
  },
  {
   "cell_type": "markdown",
   "id": "9YcKK3IZcOnz",
   "metadata": {
    "id": "9YcKK3IZcOnz"
   },
   "source": [
    "Default Text To Speech and pitch shifting"
   ]
  },
  {
   "cell_type": "code",
   "execution_count": 45,
   "id": "XDq5OClWcJpk",
   "metadata": {
    "id": "XDq5OClWcJpk"
   },
   "outputs": [],
   "source": [
    "#mytext=input(\"Enter Kannada Text: \")\n",
    "def saveMp3(mytext):\n",
    "  language='kn'\n",
    "  ktts = gTTS(text=mytext, lang=language, slow=False)\n",
    "  ktts.save(\"output.mp3\")\n",
    "\n",
    "  #Pitch shifting of output.mp3\n",
    "  from numpy.random import uniform\n",
    "  filename = 'output.mp3'\n",
    "  sound = AudioSegment.from_file(filename, format=filename[-3:])\n",
    "\n",
    "  octaves = 1\n",
    "  for octaves in np.linspace(-0.5,0.5,10):\n",
    "      new_sample_rate = int(sound.frame_rate * (2.0 ** octaves))\n",
    "      hipitch_sound = sound._spawn(sound.raw_data, overrides={'frame_rate': new_sample_rate})\n",
    "      hipitch_sound = hipitch_sound.set_frame_rate(44100)\n",
    "      #export / save pitch changed sound\n",
    "      hipitch_sound.export(f\"ttsf_{octaves}.wav\", format=\"wav\")\n",
    "\n",
    "\n",
    "def playPitch(emo):\n",
    "\n",
    "  if emo=='Angry':\n",
    "    return \"Play -0.277.wav for anger.\"\n",
    "    #play('/content/ttsf_-0.2777777777777778.wav',slow=False)  #speed must be changed to fast\n",
    "  elif emo=='Happy':\n",
    "    return \"Play 0.5.wav for happy.\"\n",
    "    #play('/content/ttsf_0.5.wav') #sounds happy :)\n",
    "  elif emo=='Neutral':\n",
    "    return \"Play output.mp3 for neutral.\"\n",
    "    #play('/content/output.mp3') #is neutral\n",
    "  else:\n",
    "    return \"Play -0.277.wav for sad.\"\n",
    "    #play('/content/ttsf_-0.2777777777777778.wav') #yeah sounds sad :(\n"
   ]
  },
  {
   "cell_type": "markdown",
   "id": "OaWUrv6Kggyf",
   "metadata": {
    "id": "OaWUrv6Kggyf"
   },
   "source": [
    "open -0.277.wav for anger (to be changed)\\\n",
    "0.5.wav for happy\\\n",
    "output.mp3 for neutral\\\n",
    "-0.277.wav for sad"
   ]
  },
  {
   "cell_type": "markdown",
   "id": "IfqvILUu6K85",
   "metadata": {
    "id": "IfqvILUu6K85"
   },
   "source": [
    "## **TTS in Kannada with Emotions**\n"
   ]
  },
  {
   "cell_type": "code",
   "execution_count": 47,
   "id": "2rHIsGxEeVnF",
   "metadata": {
    "colab": {
     "base_uri": "https://localhost:8080/"
    },
    "id": "2rHIsGxEeVnF",
    "outputId": "11e00871-b59c-4bb5-e3b6-042ebf4eec2f"
   },
   "outputs": [
    {
     "name": "stdin",
     "output_type": "stream",
     "text": [
      "Enter Kannada Text: ನಾನು ನಿಮಗಾಗಿ ತುಂಬಾ ಸಂತೋಷವಾಗಿದ್ದೇನೆ\n"
     ]
    },
    {
     "name": "stdout",
     "output_type": "stream",
     "text": [
      "\n",
      "\n",
      "Results using Multinomial Logistic Regression:\n",
      "Emotion identified using MLR:  Happy\n",
      "Play 0.5.wav for happy. \n",
      "\n",
      "Results using Decision Tree Classifier:\n",
      "Emotion identified using DT:  Happy\n",
      "Play 0.5.wav for happy. \n",
      "\n"
     ]
    }
   ],
   "source": [
    "def mainTTS():\n",
    "  ttt=input(\"Enter Kannada Text:\")\n",
    "  print(\"\\n\")\n",
    "  mlr_output=callingMLR(ttt)\n",
    "  dt_output=callingDT(ttt)\n",
    "  saveMp3(ttt)\n",
    "  speech_output_mlr=playPitch(mlr_output)\n",
    "  speech_output_dt=playPitch(dt_output)\n",
    "  \n",
    "  print(\"Results using Multinomial Logistic Regression:\",)\n",
    "  print(\"Emotion identified using MLR: \",mlr_output)\n",
    "  print(speech_output_mlr,\"\\n\")\n",
    "\n",
    "  print(\"Results using Decision Tree Classifier:\")\n",
    "  print(\"Emotion identified using DT: \",dt_output)\n",
    "  print(speech_output_dt,\"\\n\")\n",
    "\n",
    "\n",
    "mainTTS() #calling the main function"
   ]
  },
  {
   "cell_type": "markdown",
   "id": "skdHLTWw-Oxf",
   "metadata": {
    "id": "skdHLTWw-Oxf"
   },
   "source": [
    "Some examples:\n",
    "\n",
    "ಈ ದಿನ ಸುದಿನ\n",
    "\n",
    "ನೀನು ಏನು ಮಾಡುತ್ತಿರುವೆ?!\n",
    "\n",
    "ನಾನು ನಿಮಗಾಗಿ ತುಂಬಾ ಸಂತೋಷವಾಗಿದ್ದೇನೆ"
   ]
  },
  {
   "cell_type": "code",
   "execution_count": null,
   "id": "ubk7sSWC-VXz",
   "metadata": {
    "id": "ubk7sSWC-VXz"
   },
   "outputs": [],
   "source": []
  }
 ],
 "metadata": {
  "colab": {
   "provenance": []
  },
  "kernelspec": {
   "display_name": "Python 3 (ipykernel)",
   "language": "python",
   "name": "python3"
  },
  "language_info": {
   "codemirror_mode": {
    "name": "ipython",
    "version": 3
   },
   "file_extension": ".py",
   "mimetype": "text/x-python",
   "name": "python",
   "nbconvert_exporter": "python",
   "pygments_lexer": "ipython3",
   "version": "3.9.15"
  }
 },
 "nbformat": 4,
 "nbformat_minor": 5
}
